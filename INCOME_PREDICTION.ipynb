{
 "cells": [
  {
   "cell_type": "markdown",
   "id": "ac5b7c2a",
   "metadata": {},
   "source": [
    "# Ануфриев Н.В.\n",
    "\n",
    "Цель задания - спрогнозировать годовой доход более или менее 50 000$.\n",
    "\n",
    "Разрешается использовать любые инструменты библиотеки scikit-learn, кроме методов глубокого обучения. Запрещается использовать другие библиотеки машинного обучения и их инструменты (имеется ввиду catboost, xgboost и подобрые)."
   ]
  },
  {
   "cell_type": "markdown",
   "id": "afde0100",
   "metadata": {},
   "source": [
    "Переменные в датасете:\n",
    "\n",
    "- age (возраст): continuous.\n",
    "- workclass (работадатель): Private, Self-emp-not-inc, Self-emp-inc, Federal-gov, Local-gov, State-gov, Without-pay, Never-worked.\n",
    "- fnlwgt (final weight) – примерная оценка количества людей, которое представляет каждая строка данных: continuous.\n",
    "- education (образование): Bachelors, Some-college, 11th, HS-grad, Prof-school, Assoc-acdm, Assoc-voc, 9th, 7th-8th, 12th, Masters, 1st-4th, 10th, Doctorate, 5th-6th, Preschool.\n",
    "- education-num: continuous.\n",
    "- marital-status (семейное положение): Married-civ-spouse, Divorced, Never-married, Separated, Widowed, Married-spouse-absent, Married-AF-spouse.\n",
    "- occupation (сфера деятельности): Tech-support, Craft-repair, Other-service, Sales, Exec-managerial, Prof-specialty, Handlers-cleaners, Machine-op-inspct, Adm-clerical, Farming-fishing, Transport-moving, Priv-house-serv, Protective-serv, Armed-Forces.\n",
    "- relationship (родство): Wife, Own-child, Husband, Not-in-family, Other-relative, Unmarried.\n",
    "- race (расса): White, Asian-Pac-Islander, Amer-Indian-Eskimo, Other, Black.\n",
    "- sex (пол): Female, Male.\n",
    "- capital-gain (прирост капитала): continuous.\n",
    "- capital-loss (убыток капитала): continuous.\n",
    "- hours-per-week (рабочих часов в неделю): continuous.\n",
    "- native-country (место рождения): United-States, Cambodia, England, Puerto-Rico, Canada, Germany, Outlying-US(Guam-USVI-etc), India, Japan, Greece, South, China, Cuba, Iran, Honduras, Philippines, Italy, Poland, Jamaica, Vietnam, Mexico, Portugal, Ireland, France, Dominican-Republic, Laos, Ecuador, Taiwan, Haiti, Columbia, Hungary, Guatemala, Nicaragua, Scotland, Thailand, Yugoslavia, El-Salvador, Trinadad&Tobago, Peru, Hong, Holand-Netherlands"
   ]
  },
  {
   "cell_type": "markdown",
   "id": "1402b72a",
   "metadata": {},
   "source": [
    "### Импортируем библиотеки"
   ]
  },
  {
   "cell_type": "code",
   "execution_count": 1,
   "id": "57976d7d",
   "metadata": {},
   "outputs": [],
   "source": [
    "import pandas as pd\n",
    "import numpy as np\n",
    "import matplotlib.pyplot as plt\n",
    "import seaborn as sn\n",
    "import category_encoders as ce\n",
    "\n",
    "from sklearn.compose import make_column_transformer\n",
    "from sklearn.neighbors import KNeighborsClassifier \n",
    "from sklearn.naive_bayes import GaussianNB\n",
    "from sklearn.svm import SVC\n",
    "from sklearn.metrics import accuracy_score\n",
    "from sklearn.pipeline import make_pipeline\n",
    "from sklearn.datasets import make_regression\n",
    "from sklearn.model_selection import GridSearchCV, train_test_split, learning_curve, ShuffleSplit, cross_val_score, KFold, cross_val_predict\n",
    "from sklearn.linear_model import LinearRegression, Lasso, Ridge, Perceptron, LogisticRegression\n",
    "from sklearn.preprocessing import MinMaxScaler, PolynomialFeatures, LabelEncoder, OneHotEncoder, StandardScaler\n",
    "from sklearn.feature_selection import RFE\n",
    "from sklearn.compose import ColumnTransformer\n",
    "from sklearn.ensemble import RandomForestClassifier"
   ]
  },
  {
   "cell_type": "markdown",
   "id": "88133f37",
   "metadata": {},
   "source": [
    "### Загружаем датасеты"
   ]
  },
  {
   "cell_type": "code",
   "execution_count": 2,
   "id": "dabebd2b",
   "metadata": {},
   "outputs": [],
   "source": [
    "train_df = pd.read_csv('income_train.csv')\n",
    "test_df = pd.read_csv('income_test.csv')"
   ]
  },
  {
   "cell_type": "code",
   "execution_count": 3,
   "id": "a745c02e",
   "metadata": {},
   "outputs": [
    {
     "data": {
      "text/html": [
       "<div>\n",
       "<style scoped>\n",
       "    .dataframe tbody tr th:only-of-type {\n",
       "        vertical-align: middle;\n",
       "    }\n",
       "\n",
       "    .dataframe tbody tr th {\n",
       "        vertical-align: top;\n",
       "    }\n",
       "\n",
       "    .dataframe thead th {\n",
       "        text-align: right;\n",
       "    }\n",
       "</style>\n",
       "<table border=\"1\" class=\"dataframe\">\n",
       "  <thead>\n",
       "    <tr style=\"text-align: right;\">\n",
       "      <th></th>\n",
       "      <th>age</th>\n",
       "      <th>workclass</th>\n",
       "      <th>fnlwgt</th>\n",
       "      <th>education</th>\n",
       "      <th>education-num</th>\n",
       "      <th>marital-status</th>\n",
       "      <th>occupation</th>\n",
       "      <th>relationship</th>\n",
       "      <th>race</th>\n",
       "      <th>sex</th>\n",
       "      <th>capital-gain</th>\n",
       "      <th>capital-loss</th>\n",
       "      <th>hours-per-week</th>\n",
       "      <th>native-country</th>\n",
       "      <th>income</th>\n",
       "    </tr>\n",
       "  </thead>\n",
       "  <tbody>\n",
       "    <tr>\n",
       "      <th>0</th>\n",
       "      <td>37</td>\n",
       "      <td>Self-emp-not-inc</td>\n",
       "      <td>112497</td>\n",
       "      <td>Masters</td>\n",
       "      <td>14</td>\n",
       "      <td>Married-civ-spouse</td>\n",
       "      <td>Exec-managerial</td>\n",
       "      <td>Husband</td>\n",
       "      <td>White</td>\n",
       "      <td>Male</td>\n",
       "      <td>0</td>\n",
       "      <td>0</td>\n",
       "      <td>50</td>\n",
       "      <td>United-States</td>\n",
       "      <td>&gt;50K</td>\n",
       "    </tr>\n",
       "    <tr>\n",
       "      <th>1</th>\n",
       "      <td>39</td>\n",
       "      <td>Private</td>\n",
       "      <td>278557</td>\n",
       "      <td>Assoc-voc</td>\n",
       "      <td>11</td>\n",
       "      <td>Married-civ-spouse</td>\n",
       "      <td>Craft-repair</td>\n",
       "      <td>Husband</td>\n",
       "      <td>White</td>\n",
       "      <td>Male</td>\n",
       "      <td>0</td>\n",
       "      <td>1628</td>\n",
       "      <td>48</td>\n",
       "      <td>United-States</td>\n",
       "      <td>&lt;=50K</td>\n",
       "    </tr>\n",
       "    <tr>\n",
       "      <th>2</th>\n",
       "      <td>33</td>\n",
       "      <td>Private</td>\n",
       "      <td>173858</td>\n",
       "      <td>Bachelors</td>\n",
       "      <td>13</td>\n",
       "      <td>Married-civ-spouse</td>\n",
       "      <td>Adm-clerical</td>\n",
       "      <td>Other-relative</td>\n",
       "      <td>Asian-Pac-Islander</td>\n",
       "      <td>Male</td>\n",
       "      <td>0</td>\n",
       "      <td>0</td>\n",
       "      <td>40</td>\n",
       "      <td>India</td>\n",
       "      <td>&lt;=50K</td>\n",
       "    </tr>\n",
       "    <tr>\n",
       "      <th>3</th>\n",
       "      <td>35</td>\n",
       "      <td>?</td>\n",
       "      <td>120074</td>\n",
       "      <td>HS-grad</td>\n",
       "      <td>9</td>\n",
       "      <td>Married-civ-spouse</td>\n",
       "      <td>?</td>\n",
       "      <td>Husband</td>\n",
       "      <td>White</td>\n",
       "      <td>Male</td>\n",
       "      <td>0</td>\n",
       "      <td>0</td>\n",
       "      <td>30</td>\n",
       "      <td>United-States</td>\n",
       "      <td>&lt;=50K</td>\n",
       "    </tr>\n",
       "    <tr>\n",
       "      <th>4</th>\n",
       "      <td>21</td>\n",
       "      <td>Private</td>\n",
       "      <td>199915</td>\n",
       "      <td>Some-college</td>\n",
       "      <td>10</td>\n",
       "      <td>Never-married</td>\n",
       "      <td>Other-service</td>\n",
       "      <td>Own-child</td>\n",
       "      <td>White</td>\n",
       "      <td>Female</td>\n",
       "      <td>0</td>\n",
       "      <td>0</td>\n",
       "      <td>40</td>\n",
       "      <td>United-States</td>\n",
       "      <td>&lt;=50K</td>\n",
       "    </tr>\n",
       "  </tbody>\n",
       "</table>\n",
       "</div>"
      ],
      "text/plain": [
       "   age         workclass  fnlwgt     education  education-num  \\\n",
       "0   37  Self-emp-not-inc  112497       Masters             14   \n",
       "1   39           Private  278557     Assoc-voc             11   \n",
       "2   33           Private  173858     Bachelors             13   \n",
       "3   35                 ?  120074       HS-grad              9   \n",
       "4   21           Private  199915  Some-college             10   \n",
       "\n",
       "       marital-status       occupation    relationship                race  \\\n",
       "0  Married-civ-spouse  Exec-managerial         Husband               White   \n",
       "1  Married-civ-spouse     Craft-repair         Husband               White   \n",
       "2  Married-civ-spouse     Adm-clerical  Other-relative  Asian-Pac-Islander   \n",
       "3  Married-civ-spouse                ?         Husband               White   \n",
       "4       Never-married    Other-service       Own-child               White   \n",
       "\n",
       "      sex  capital-gain  capital-loss  hours-per-week native-country income  \n",
       "0    Male             0             0              50  United-States   >50K  \n",
       "1    Male             0          1628              48  United-States  <=50K  \n",
       "2    Male             0             0              40          India  <=50K  \n",
       "3    Male             0             0              30  United-States  <=50K  \n",
       "4  Female             0             0              40  United-States  <=50K  "
      ]
     },
     "execution_count": 3,
     "metadata": {},
     "output_type": "execute_result"
    }
   ],
   "source": [
    "train_df.head(5)"
   ]
  },
  {
   "cell_type": "code",
   "execution_count": 4,
   "id": "4ae86952",
   "metadata": {},
   "outputs": [
    {
     "data": {
      "text/html": [
       "<div>\n",
       "<style scoped>\n",
       "    .dataframe tbody tr th:only-of-type {\n",
       "        vertical-align: middle;\n",
       "    }\n",
       "\n",
       "    .dataframe tbody tr th {\n",
       "        vertical-align: top;\n",
       "    }\n",
       "\n",
       "    .dataframe thead th {\n",
       "        text-align: right;\n",
       "    }\n",
       "</style>\n",
       "<table border=\"1\" class=\"dataframe\">\n",
       "  <thead>\n",
       "    <tr style=\"text-align: right;\">\n",
       "      <th></th>\n",
       "      <th>age</th>\n",
       "      <th>workclass</th>\n",
       "      <th>fnlwgt</th>\n",
       "      <th>education</th>\n",
       "      <th>education-num</th>\n",
       "      <th>marital-status</th>\n",
       "      <th>occupation</th>\n",
       "      <th>relationship</th>\n",
       "      <th>race</th>\n",
       "      <th>sex</th>\n",
       "      <th>capital-gain</th>\n",
       "      <th>capital-loss</th>\n",
       "      <th>hours-per-week</th>\n",
       "      <th>native-country</th>\n",
       "    </tr>\n",
       "  </thead>\n",
       "  <tbody>\n",
       "    <tr>\n",
       "      <th>0</th>\n",
       "      <td>43</td>\n",
       "      <td>Private</td>\n",
       "      <td>154076</td>\n",
       "      <td>Some-college</td>\n",
       "      <td>10</td>\n",
       "      <td>Married-civ-spouse</td>\n",
       "      <td>Handlers-cleaners</td>\n",
       "      <td>Husband</td>\n",
       "      <td>White</td>\n",
       "      <td>Male</td>\n",
       "      <td>0</td>\n",
       "      <td>0</td>\n",
       "      <td>40</td>\n",
       "      <td>United-States</td>\n",
       "    </tr>\n",
       "    <tr>\n",
       "      <th>1</th>\n",
       "      <td>58</td>\n",
       "      <td>Private</td>\n",
       "      <td>236596</td>\n",
       "      <td>Some-college</td>\n",
       "      <td>10</td>\n",
       "      <td>Married-civ-spouse</td>\n",
       "      <td>Exec-managerial</td>\n",
       "      <td>Husband</td>\n",
       "      <td>White</td>\n",
       "      <td>Male</td>\n",
       "      <td>0</td>\n",
       "      <td>0</td>\n",
       "      <td>40</td>\n",
       "      <td>United-States</td>\n",
       "    </tr>\n",
       "    <tr>\n",
       "      <th>2</th>\n",
       "      <td>37</td>\n",
       "      <td>Self-emp-inc</td>\n",
       "      <td>51264</td>\n",
       "      <td>Assoc-voc</td>\n",
       "      <td>11</td>\n",
       "      <td>Married-civ-spouse</td>\n",
       "      <td>Sales</td>\n",
       "      <td>Husband</td>\n",
       "      <td>White</td>\n",
       "      <td>Male</td>\n",
       "      <td>0</td>\n",
       "      <td>0</td>\n",
       "      <td>40</td>\n",
       "      <td>United-States</td>\n",
       "    </tr>\n",
       "    <tr>\n",
       "      <th>3</th>\n",
       "      <td>42</td>\n",
       "      <td>Private</td>\n",
       "      <td>250121</td>\n",
       "      <td>11th</td>\n",
       "      <td>7</td>\n",
       "      <td>Married-civ-spouse</td>\n",
       "      <td>Other-service</td>\n",
       "      <td>Wife</td>\n",
       "      <td>White</td>\n",
       "      <td>Female</td>\n",
       "      <td>0</td>\n",
       "      <td>0</td>\n",
       "      <td>40</td>\n",
       "      <td>United-States</td>\n",
       "    </tr>\n",
       "    <tr>\n",
       "      <th>4</th>\n",
       "      <td>40</td>\n",
       "      <td>Self-emp-not-inc</td>\n",
       "      <td>89413</td>\n",
       "      <td>HS-grad</td>\n",
       "      <td>9</td>\n",
       "      <td>Married-civ-spouse</td>\n",
       "      <td>Craft-repair</td>\n",
       "      <td>Husband</td>\n",
       "      <td>White</td>\n",
       "      <td>Male</td>\n",
       "      <td>0</td>\n",
       "      <td>1672</td>\n",
       "      <td>40</td>\n",
       "      <td>United-States</td>\n",
       "    </tr>\n",
       "  </tbody>\n",
       "</table>\n",
       "</div>"
      ],
      "text/plain": [
       "   age         workclass  fnlwgt     education  education-num  \\\n",
       "0   43           Private  154076  Some-college             10   \n",
       "1   58           Private  236596  Some-college             10   \n",
       "2   37      Self-emp-inc   51264     Assoc-voc             11   \n",
       "3   42           Private  250121          11th              7   \n",
       "4   40  Self-emp-not-inc   89413       HS-grad              9   \n",
       "\n",
       "       marital-status         occupation relationship   race     sex  \\\n",
       "0  Married-civ-spouse  Handlers-cleaners      Husband  White    Male   \n",
       "1  Married-civ-spouse    Exec-managerial      Husband  White    Male   \n",
       "2  Married-civ-spouse              Sales      Husband  White    Male   \n",
       "3  Married-civ-spouse      Other-service         Wife  White  Female   \n",
       "4  Married-civ-spouse       Craft-repair      Husband  White    Male   \n",
       "\n",
       "   capital-gain  capital-loss  hours-per-week native-country  \n",
       "0             0             0              40  United-States  \n",
       "1             0             0              40  United-States  \n",
       "2             0             0              40  United-States  \n",
       "3             0             0              40  United-States  \n",
       "4             0          1672              40  United-States  "
      ]
     },
     "execution_count": 4,
     "metadata": {},
     "output_type": "execute_result"
    }
   ],
   "source": [
    "test_df.head(5)"
   ]
  },
  {
   "cell_type": "markdown",
   "id": "dd256b53",
   "metadata": {},
   "source": [
    "### Проверяем размерность"
   ]
  },
  {
   "cell_type": "code",
   "execution_count": 5,
   "id": "b2581727",
   "metadata": {},
   "outputs": [
    {
     "data": {
      "text/plain": [
       "((26048, 15), (6513, 14))"
      ]
     },
     "execution_count": 5,
     "metadata": {},
     "output_type": "execute_result"
    }
   ],
   "source": [
    "train_df.shape, test_df.shape"
   ]
  },
  {
   "cell_type": "markdown",
   "id": "04e79b08",
   "metadata": {},
   "source": [
    "### Проверяем информацию о данных"
   ]
  },
  {
   "cell_type": "code",
   "execution_count": 6,
   "id": "7cb14123",
   "metadata": {},
   "outputs": [
    {
     "name": "stdout",
     "output_type": "stream",
     "text": [
      "<class 'pandas.core.frame.DataFrame'>\n",
      "RangeIndex: 26048 entries, 0 to 26047\n",
      "Data columns (total 15 columns):\n",
      " #   Column          Non-Null Count  Dtype \n",
      "---  ------          --------------  ----- \n",
      " 0   age             26048 non-null  int64 \n",
      " 1   workclass       26048 non-null  object\n",
      " 2   fnlwgt          26048 non-null  int64 \n",
      " 3   education       26048 non-null  object\n",
      " 4   education-num   26048 non-null  int64 \n",
      " 5   marital-status  26048 non-null  object\n",
      " 6   occupation      26048 non-null  object\n",
      " 7   relationship    26048 non-null  object\n",
      " 8   race            26048 non-null  object\n",
      " 9   sex             26048 non-null  object\n",
      " 10  capital-gain    26048 non-null  int64 \n",
      " 11  capital-loss    26048 non-null  int64 \n",
      " 12  hours-per-week  26048 non-null  int64 \n",
      " 13  native-country  26048 non-null  object\n",
      " 14  income          26048 non-null  object\n",
      "dtypes: int64(6), object(9)\n",
      "memory usage: 3.0+ MB\n"
     ]
    }
   ],
   "source": [
    "train_df.info()"
   ]
  },
  {
   "cell_type": "markdown",
   "id": "4b9f28f9",
   "metadata": {},
   "source": [
    "### Смотрим статистику по всем int значениям"
   ]
  },
  {
   "cell_type": "code",
   "execution_count": 7,
   "id": "dedd2635",
   "metadata": {},
   "outputs": [
    {
     "data": {
      "text/html": [
       "<div>\n",
       "<style scoped>\n",
       "    .dataframe tbody tr th:only-of-type {\n",
       "        vertical-align: middle;\n",
       "    }\n",
       "\n",
       "    .dataframe tbody tr th {\n",
       "        vertical-align: top;\n",
       "    }\n",
       "\n",
       "    .dataframe thead th {\n",
       "        text-align: right;\n",
       "    }\n",
       "</style>\n",
       "<table border=\"1\" class=\"dataframe\">\n",
       "  <thead>\n",
       "    <tr style=\"text-align: right;\">\n",
       "      <th></th>\n",
       "      <th>age</th>\n",
       "      <th>fnlwgt</th>\n",
       "      <th>education-num</th>\n",
       "      <th>capital-gain</th>\n",
       "      <th>capital-loss</th>\n",
       "      <th>hours-per-week</th>\n",
       "    </tr>\n",
       "  </thead>\n",
       "  <tbody>\n",
       "    <tr>\n",
       "      <th>count</th>\n",
       "      <td>26048.000000</td>\n",
       "      <td>2.604800e+04</td>\n",
       "      <td>26048.000000</td>\n",
       "      <td>26048.000000</td>\n",
       "      <td>26048.000000</td>\n",
       "      <td>26048.000000</td>\n",
       "    </tr>\n",
       "    <tr>\n",
       "      <th>mean</th>\n",
       "      <td>38.573480</td>\n",
       "      <td>1.898020e+05</td>\n",
       "      <td>10.088874</td>\n",
       "      <td>1068.759598</td>\n",
       "      <td>88.646422</td>\n",
       "      <td>40.451973</td>\n",
       "    </tr>\n",
       "    <tr>\n",
       "      <th>std</th>\n",
       "      <td>13.621556</td>\n",
       "      <td>1.050073e+05</td>\n",
       "      <td>2.575100</td>\n",
       "      <td>7282.271422</td>\n",
       "      <td>406.059200</td>\n",
       "      <td>12.320676</td>\n",
       "    </tr>\n",
       "    <tr>\n",
       "      <th>min</th>\n",
       "      <td>17.000000</td>\n",
       "      <td>1.228500e+04</td>\n",
       "      <td>1.000000</td>\n",
       "      <td>0.000000</td>\n",
       "      <td>0.000000</td>\n",
       "      <td>1.000000</td>\n",
       "    </tr>\n",
       "    <tr>\n",
       "      <th>25%</th>\n",
       "      <td>28.000000</td>\n",
       "      <td>1.183090e+05</td>\n",
       "      <td>9.000000</td>\n",
       "      <td>0.000000</td>\n",
       "      <td>0.000000</td>\n",
       "      <td>40.000000</td>\n",
       "    </tr>\n",
       "    <tr>\n",
       "      <th>50%</th>\n",
       "      <td>37.000000</td>\n",
       "      <td>1.783190e+05</td>\n",
       "      <td>10.000000</td>\n",
       "      <td>0.000000</td>\n",
       "      <td>0.000000</td>\n",
       "      <td>40.000000</td>\n",
       "    </tr>\n",
       "    <tr>\n",
       "      <th>75%</th>\n",
       "      <td>48.000000</td>\n",
       "      <td>2.376340e+05</td>\n",
       "      <td>12.000000</td>\n",
       "      <td>0.000000</td>\n",
       "      <td>0.000000</td>\n",
       "      <td>45.000000</td>\n",
       "    </tr>\n",
       "    <tr>\n",
       "      <th>max</th>\n",
       "      <td>90.000000</td>\n",
       "      <td>1.484705e+06</td>\n",
       "      <td>16.000000</td>\n",
       "      <td>99999.000000</td>\n",
       "      <td>4356.000000</td>\n",
       "      <td>99.000000</td>\n",
       "    </tr>\n",
       "  </tbody>\n",
       "</table>\n",
       "</div>"
      ],
      "text/plain": [
       "                age        fnlwgt  education-num  capital-gain  capital-loss  \\\n",
       "count  26048.000000  2.604800e+04   26048.000000  26048.000000  26048.000000   \n",
       "mean      38.573480  1.898020e+05      10.088874   1068.759598     88.646422   \n",
       "std       13.621556  1.050073e+05       2.575100   7282.271422    406.059200   \n",
       "min       17.000000  1.228500e+04       1.000000      0.000000      0.000000   \n",
       "25%       28.000000  1.183090e+05       9.000000      0.000000      0.000000   \n",
       "50%       37.000000  1.783190e+05      10.000000      0.000000      0.000000   \n",
       "75%       48.000000  2.376340e+05      12.000000      0.000000      0.000000   \n",
       "max       90.000000  1.484705e+06      16.000000  99999.000000   4356.000000   \n",
       "\n",
       "       hours-per-week  \n",
       "count    26048.000000  \n",
       "mean        40.451973  \n",
       "std         12.320676  \n",
       "min          1.000000  \n",
       "25%         40.000000  \n",
       "50%         40.000000  \n",
       "75%         45.000000  \n",
       "max         99.000000  "
      ]
     },
     "execution_count": 7,
     "metadata": {},
     "output_type": "execute_result"
    }
   ],
   "source": [
    "train_df.describe()"
   ]
  },
  {
   "cell_type": "markdown",
   "id": "6f4593a2",
   "metadata": {},
   "source": [
    "### Количество уникальных значений для каждого столбца "
   ]
  },
  {
   "cell_type": "code",
   "execution_count": 8,
   "id": "b19aad1b",
   "metadata": {},
   "outputs": [
    {
     "data": {
      "text/plain": [
       "age                  72\n",
       "workclass             9\n",
       "fnlwgt            18385\n",
       "education            16\n",
       "education-num        16\n",
       "marital-status        7\n",
       "occupation           15\n",
       "relationship          6\n",
       "race                  5\n",
       "sex                   2\n",
       "capital-gain        117\n",
       "capital-loss         91\n",
       "hours-per-week       93\n",
       "native-country       42\n",
       "income                2\n",
       "dtype: int64"
      ]
     },
     "execution_count": 8,
     "metadata": {},
     "output_type": "execute_result"
    }
   ],
   "source": [
    "train_df.nunique()"
   ]
  },
  {
   "cell_type": "code",
   "execution_count": 9,
   "id": "66ad598a",
   "metadata": {},
   "outputs": [
    {
     "name": "stdout",
     "output_type": "stream",
     "text": [
      "workclass ['Self-emp-not-inc' 'Private' '?' 'Self-emp-inc' 'Local-gov' 'Federal-gov'\n",
      " 'State-gov' 'Without-pay' 'Never-worked']\n",
      "education ['Masters' 'Assoc-voc' 'Bachelors' 'HS-grad' 'Some-college' 'Prof-school'\n",
      " '11th' 'Doctorate' '12th' '9th' 'Assoc-acdm' '10th' '1st-4th' 'Preschool'\n",
      " '5th-6th' '7th-8th']\n",
      "marital-status ['Married-civ-spouse' 'Never-married' 'Divorced' 'Married-spouse-absent'\n",
      " 'Separated' 'Widowed' 'Married-AF-spouse']\n",
      "occupation ['Exec-managerial' 'Craft-repair' 'Adm-clerical' '?' 'Other-service'\n",
      " 'Tech-support' 'Sales' 'Prof-specialty' 'Machine-op-inspct'\n",
      " 'Farming-fishing' 'Transport-moving' 'Handlers-cleaners'\n",
      " 'Protective-serv' 'Priv-house-serv' 'Armed-Forces']\n",
      "relationship ['Husband' 'Other-relative' 'Own-child' 'Not-in-family' 'Wife' 'Unmarried']\n",
      "race ['White' 'Asian-Pac-Islander' 'Black' 'Other' 'Amer-Indian-Eskimo']\n",
      "sex ['Male' 'Female']\n",
      "native-country ['United-States' 'India' '?' 'Mexico' 'Taiwan' 'Puerto-Rico' 'Philippines'\n",
      " 'Poland' 'Canada' 'Germany' 'Dominican-Republic' 'Japan' 'South'\n",
      " 'England' 'Italy' 'Iran' 'Columbia' 'Cuba' 'China' 'Hungary' 'Guatemala'\n",
      " 'Cambodia' 'Scotland' 'Trinadad&Tobago' 'Hong' 'Yugoslavia' 'El-Salvador'\n",
      " 'Jamaica' 'Laos' 'Portugal' 'Vietnam' 'Haiti' 'France' 'Ecuador' 'Greece'\n",
      " 'Thailand' 'Nicaragua' 'Peru' 'Honduras' 'Ireland'\n",
      " 'Outlying-US(Guam-USVI-etc)' 'Holand-Netherlands']\n",
      "income ['>50K' '<=50K']\n"
     ]
    }
   ],
   "source": [
    "print('workclass', train_df.workclass.unique())\n",
    "print('education', train_df.education.unique())\n",
    "print('marital-status', train_df['marital-status'].unique())\n",
    "print('occupation', train_df.occupation.unique())\n",
    "print('relationship', train_df.relationship.unique())\n",
    "print('race', train_df.race.unique())\n",
    "print('sex',train_df.sex.unique())\n",
    "print('native-country', train_df['native-country'].unique())\n",
    "print('income', train_df.income.unique())"
   ]
  },
  {
   "cell_type": "markdown",
   "id": "07c5d2de",
   "metadata": {},
   "source": [
    "### Ищем пропущенные данные и заменяем их"
   ]
  },
  {
   "cell_type": "code",
   "execution_count": 10,
   "id": "62f1b8ec",
   "metadata": {},
   "outputs": [
    {
     "data": {
      "text/plain": [
       "age                  0\n",
       "workclass         1501\n",
       "fnlwgt               0\n",
       "education            0\n",
       "education-num        0\n",
       "marital-status       0\n",
       "occupation        1506\n",
       "relationship         0\n",
       "race                 0\n",
       "sex                  0\n",
       "capital-gain         0\n",
       "capital-loss         0\n",
       "hours-per-week       0\n",
       "native-country     468\n",
       "income               0\n",
       "dtype: int64"
      ]
     },
     "execution_count": 10,
     "metadata": {},
     "output_type": "execute_result"
    }
   ],
   "source": [
    "train_df.isin(['?']).sum()"
   ]
  },
  {
   "cell_type": "code",
   "execution_count": 11,
   "id": "7e6d1fab",
   "metadata": {},
   "outputs": [
    {
     "data": {
      "text/plain": [
       "age                 0\n",
       "workclass         335\n",
       "fnlwgt              0\n",
       "education           0\n",
       "education-num       0\n",
       "marital-status      0\n",
       "occupation        337\n",
       "relationship        0\n",
       "race                0\n",
       "sex                 0\n",
       "capital-gain        0\n",
       "capital-loss        0\n",
       "hours-per-week      0\n",
       "native-country    115\n",
       "dtype: int64"
      ]
     },
     "execution_count": 11,
     "metadata": {},
     "output_type": "execute_result"
    }
   ],
   "source": [
    "test_df.isin(['?']).sum()"
   ]
  },
  {
   "cell_type": "markdown",
   "id": "9a988bc1",
   "metadata": {},
   "source": [
    "\n",
    "### Заменяем ? на NaN"
   ]
  },
  {
   "cell_type": "code",
   "execution_count": 12,
   "id": "eaf0a77a",
   "metadata": {},
   "outputs": [],
   "source": [
    "train_df = train_df.replace('?', np.nan)"
   ]
  },
  {
   "cell_type": "code",
   "execution_count": 13,
   "id": "78218ec1",
   "metadata": {},
   "outputs": [
    {
     "data": {
      "text/plain": [
       "age               0\n",
       "workclass         0\n",
       "fnlwgt            0\n",
       "education         0\n",
       "education-num     0\n",
       "marital-status    0\n",
       "occupation        0\n",
       "relationship      0\n",
       "race              0\n",
       "sex               0\n",
       "capital-gain      0\n",
       "capital-loss      0\n",
       "hours-per-week    0\n",
       "native-country    0\n",
       "income            0\n",
       "dtype: int64"
      ]
     },
     "execution_count": 13,
     "metadata": {},
     "output_type": "execute_result"
    }
   ],
   "source": [
    "train_df.isin(['?']).sum()"
   ]
  },
  {
   "cell_type": "code",
   "execution_count": 14,
   "id": "6260c844",
   "metadata": {},
   "outputs": [],
   "source": [
    "test_df = test_df.replace('?', np.nan)"
   ]
  },
  {
   "cell_type": "code",
   "execution_count": 15,
   "id": "14d5aae0",
   "metadata": {},
   "outputs": [
    {
     "data": {
      "text/plain": [
       "age               0\n",
       "workclass         0\n",
       "fnlwgt            0\n",
       "education         0\n",
       "education-num     0\n",
       "marital-status    0\n",
       "occupation        0\n",
       "relationship      0\n",
       "race              0\n",
       "sex               0\n",
       "capital-gain      0\n",
       "capital-loss      0\n",
       "hours-per-week    0\n",
       "native-country    0\n",
       "income            0\n",
       "dtype: int64"
      ]
     },
     "execution_count": 15,
     "metadata": {},
     "output_type": "execute_result"
    }
   ],
   "source": [
    "train_df.isin(['?']).sum()"
   ]
  },
  {
   "cell_type": "code",
   "execution_count": 16,
   "id": "50d08fdb",
   "metadata": {},
   "outputs": [],
   "source": [
    "train_df.dropna(inplace=True,axis=0)\n",
    "test_df.dropna(inplace=True,axis=0)"
   ]
  },
  {
   "cell_type": "markdown",
   "id": "9bde064f",
   "metadata": {},
   "source": [
    "### Разделяем данные на тест/трейн"
   ]
  },
  {
   "cell_type": "code",
   "execution_count": 17,
   "id": "abc543ac",
   "metadata": {},
   "outputs": [],
   "source": [
    "y = train_df.iloc[:,-1].values\n",
    "X = train_df.iloc[:,:-1].values"
   ]
  },
  {
   "cell_type": "code",
   "execution_count": 18,
   "id": "15d179dd",
   "metadata": {},
   "outputs": [],
   "source": [
    "X_train, X_test, y_train, y_test = train_test_split(X, y, test_size=0.2, random_state=2, stratify=y)"
   ]
  },
  {
   "cell_type": "code",
   "execution_count": 19,
   "id": "7cfe88ae",
   "metadata": {},
   "outputs": [],
   "source": [
    "X_train = pd.DataFrame(X_train, columns=train_df.columns[:-1])\n",
    "y_train = pd.DataFrame(y_train)\n",
    "X_test = pd.DataFrame(X_test, columns=train_df.columns[:-1])\n",
    "y_test = pd.DataFrame(y_test)"
   ]
  },
  {
   "cell_type": "markdown",
   "id": "4068854e",
   "metadata": {},
   "source": [
    "### Инкодируем данные"
   ]
  },
  {
   "cell_type": "code",
   "execution_count": 20,
   "id": "a7d02217",
   "metadata": {},
   "outputs": [],
   "source": [
    "column_trans = make_column_transformer(\n",
    "    (OneHotEncoder(handle_unknown='ignore'), ['sex', 'race', 'workclass', 'marital-status', 'occupation']), \n",
    "    ('drop', ['fnlwgt', 'education', 'relationship', 'capital-gain', 'capital-loss', 'native-country']),\n",
    "    remainder=StandardScaler())"
   ]
  },
  {
   "cell_type": "code",
   "execution_count": 21,
   "id": "4c2c0923",
   "metadata": {},
   "outputs": [],
   "source": [
    "X_train = column_trans.fit_transform(X_train)\n",
    "X_test = column_trans.transform(X_test)\n",
    "test_df = column_trans.transform(test_df)"
   ]
  },
  {
   "cell_type": "code",
   "execution_count": 22,
   "id": "00756bba",
   "metadata": {},
   "outputs": [],
   "source": [
    "y_train = y_train.values.ravel()\n",
    "y_test = y_test.values.ravel()"
   ]
  },
  {
   "cell_type": "markdown",
   "id": "c6ecb71d",
   "metadata": {},
   "source": [
    "### Поиск лучшей модели\n",
    "### Метод К-ближайших соседей"
   ]
  },
  {
   "cell_type": "code",
   "execution_count": 23,
   "id": "904c93c7",
   "metadata": {},
   "outputs": [
    {
     "name": "stdout",
     "output_type": "stream",
     "text": [
      "Точность К-ближайших соседей модели:  0.8161825726141079\n"
     ]
    }
   ],
   "source": [
    "knn = KNeighborsClassifier()\n",
    "knn.fit(X_train, y_train)\n",
    "score_knn = knn.score(X_test, y_test)\n",
    "print('Точность К-ближайших соседей модели: ', score_knn)"
   ]
  },
  {
   "cell_type": "markdown",
   "id": "8f68f5de",
   "metadata": {},
   "source": [
    "### Метод GaussianNB"
   ]
  },
  {
   "cell_type": "code",
   "execution_count": 24,
   "id": "bf7ba033",
   "metadata": {},
   "outputs": [],
   "source": [
    "# gaussian = GaussianNB()\n",
    "# gaussian.fit(X_train, y_train)\n",
    "# score_gaussian = gaussian.score(X_test,y_test)\n",
    "# print('Точность Гауссовской модели: ', score_gaussian)"
   ]
  },
  {
   "cell_type": "markdown",
   "id": "5eb15a37",
   "metadata": {},
   "source": [
    "### Метод RFM"
   ]
  },
  {
   "cell_type": "code",
   "execution_count": 25,
   "id": "5c36ad17",
   "metadata": {},
   "outputs": [
    {
     "name": "stdout",
     "output_type": "stream",
     "text": [
      "Точность RFM модели:  0.812448132780083\n"
     ]
    }
   ],
   "source": [
    "randomforest = RandomForestClassifier()\n",
    "randomforest.fit(X_train, y_train)\n",
    "score_randomforest = randomforest.score(X_test,y_test)\n",
    "print('Точность RFM модели: ', score_randomforest)"
   ]
  },
  {
   "cell_type": "markdown",
   "id": "b55fd95d",
   "metadata": {},
   "source": [
    "### Метод логистической регрессии"
   ]
  },
  {
   "cell_type": "code",
   "execution_count": 26,
   "id": "97152418",
   "metadata": {},
   "outputs": [
    {
     "name": "stdout",
     "output_type": "stream",
     "text": [
      "Точность логистической регрессии:  0.8265560165975103\n"
     ]
    }
   ],
   "source": [
    "log_reg = LogisticRegression(solver='lbfgs', max_iter=400)\n",
    "log_reg.fit(X_train, y_train)\n",
    "score_logreg = log_reg.score(X_test,y_test)\n",
    "print('Точность логистической регрессии: ', score_logreg)"
   ]
  },
  {
   "cell_type": "code",
   "execution_count": 27,
   "id": "bc50f1af",
   "metadata": {},
   "outputs": [
    {
     "data": {
      "text/html": [
       "<div>\n",
       "<style scoped>\n",
       "    .dataframe tbody tr th:only-of-type {\n",
       "        vertical-align: middle;\n",
       "    }\n",
       "\n",
       "    .dataframe tbody tr th {\n",
       "        vertical-align: top;\n",
       "    }\n",
       "\n",
       "    .dataframe thead th {\n",
       "        text-align: right;\n",
       "    }\n",
       "</style>\n",
       "<table border=\"1\" class=\"dataframe\">\n",
       "  <thead>\n",
       "    <tr style=\"text-align: right;\">\n",
       "      <th></th>\n",
       "      <th>CV</th>\n",
       "      <th>Std</th>\n",
       "    </tr>\n",
       "  </thead>\n",
       "  <tbody>\n",
       "    <tr>\n",
       "      <th>Logistic Regression</th>\n",
       "      <td>0.830420</td>\n",
       "      <td>0.008131</td>\n",
       "    </tr>\n",
       "    <tr>\n",
       "      <th>KNN</th>\n",
       "      <td>0.823987</td>\n",
       "      <td>0.006681</td>\n",
       "    </tr>\n",
       "    <tr>\n",
       "      <th>Random Forest</th>\n",
       "      <td>0.813613</td>\n",
       "      <td>0.006242</td>\n",
       "    </tr>\n",
       "  </tbody>\n",
       "</table>\n",
       "</div>"
      ],
      "text/plain": [
       "                           CV       Std\n",
       "Logistic Regression  0.830420  0.008131\n",
       "KNN                  0.823987  0.006681\n",
       "Random Forest        0.813613  0.006242"
      ]
     },
     "execution_count": 27,
     "metadata": {},
     "output_type": "execute_result"
    }
   ],
   "source": [
    "kfold = KFold(n_splits=10, shuffle=True, random_state=42)\n",
    "\n",
    "cv_c = []\n",
    "accuracy = []\n",
    "std = []\n",
    "\n",
    "classifiers = ['Logistic Regression', 'KNN', 'Random Forest']\n",
    "models = [LogisticRegression(solver='lbfgs', max_iter=400), \n",
    "          KNeighborsClassifier(n_neighbors=9), \n",
    "          RandomForestClassifier(n_estimators=100)]\n",
    "for i in models:\n",
    "    model = i\n",
    "    cv_result = cross_val_score(model, X_train, y_train, cv = kfold, scoring = \"accuracy\")\n",
    "    cv_result = cv_result\n",
    "    cv_c.append(cv_result.mean())\n",
    "    std.append(cv_result.std())\n",
    "    accuracy.append(cv_result)\n",
    "    \n",
    "models_df = pd.DataFrame({'CV': cv_c,'Std': std}, index=classifiers)       \n",
    "models_df"
   ]
  },
  {
   "cell_type": "code",
   "execution_count": 28,
   "id": "7a2de04e",
   "metadata": {},
   "outputs": [
    {
     "name": "stdout",
     "output_type": "stream",
     "text": [
      "Best params:  {'max_depth': 50, 'max_features': 'auto', 'min_samples_split': 11, 'n_estimators': 150}\n",
      "\n",
      "Best score:  0.8335321509490827\n",
      "\n",
      "Best estimator:  RandomForestClassifier(max_depth=50, min_samples_split=11, n_estimators=150)\n"
     ]
    }
   ],
   "source": [
    "model = RandomForestClassifier() \n",
    "parameters = {'n_estimators': [150], \n",
    "              'max_features': ['log2', 'sqrt', 'auto'], \n",
    "              'max_depth': [30, 50, 70, 90], \n",
    "              'min_samples_split': [5, 7, 9, 11]} \n",
    "rfc = GridSearchCV(model, parameters, scoring = 'accuracy', n_jobs=-1, cv=5) \n",
    "rfc = rfc.fit(X_train,y_train) \n",
    "\n",
    "print('Best params: ', rfc.best_params_)\n",
    "print('\\nBest score: ', rfc.best_score_)\n",
    "print('\\nBest estimator: ', rfc.best_estimator_)"
   ]
  },
  {
   "cell_type": "code",
   "execution_count": 30,
   "id": "e8dcc737",
   "metadata": {},
   "outputs": [
    {
     "data": {
      "text/plain": [
       "array(['<=50K', '>50K', '>50K', ..., '>50K', '<=50K', '<=50K'],\n",
       "      dtype=object)"
      ]
     },
     "execution_count": 30,
     "metadata": {},
     "output_type": "execute_result"
    }
   ],
   "source": [
    "pipeline_final = make_pipeline(RandomForestClassifier(max_depth=50, max_features='log2', min_samples_split=11, \n",
    "                                                      n_estimators=150))\n",
    "pipeline_final.fit(X_train, y_train)\n",
    "\n",
    "y_predict = pipeline_final.predict(test_df)\n",
    "y_predict"
   ]
  },
  {
   "cell_type": "code",
   "execution_count": null,
   "id": "af22d656",
   "metadata": {},
   "outputs": [],
   "source": []
  }
 ],
 "metadata": {
  "kernelspec": {
   "display_name": "Python 3",
   "language": "python",
   "name": "python3"
  },
  "language_info": {
   "codemirror_mode": {
    "name": "ipython",
    "version": 3
   },
   "file_extension": ".py",
   "mimetype": "text/x-python",
   "name": "python",
   "nbconvert_exporter": "python",
   "pygments_lexer": "ipython3",
   "version": "3.8.8"
  }
 },
 "nbformat": 4,
 "nbformat_minor": 5
}
